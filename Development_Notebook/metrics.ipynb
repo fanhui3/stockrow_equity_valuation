{
 "cells": [
  {
   "cell_type": "code",
   "execution_count": 1,
   "metadata": {},
   "outputs": [],
   "source": [
    "from modules import data\n",
    "import pandas"
   ]
  },
  {
   "cell_type": "code",
   "execution_count": 2,
   "metadata": {},
   "outputs": [],
   "source": [
    "df = data.get_data()\n",
    "df = df.iloc[1:]"
   ]
  },
  {
   "cell_type": "code",
   "execution_count": null,
   "metadata": {},
   "outputs": [],
   "source": [
    "# shares\n",
    "def shares(frame):\n",
    "    frame = frame.iloc[0]\n",
    "    shares = int(frame[\"Shares_(Diluted,_Weighted)\"])\n",
    "    return shares"
   ]
  },
  {
   "cell_type": "code",
   "execution_count": null,
   "metadata": {},
   "outputs": [],
   "source": [
    "#book value\n",
    "def book_value(frame):\n",
    "    frame = frame.iloc[0]\n",
    "    book_value = frame[\"Book_value_per_Share\"]\n",
    "    return book_value"
   ]
  },
  {
   "cell_type": "code",
   "execution_count": null,
   "metadata": {},
   "outputs": [],
   "source": [
    "def debt_cost(frame):\n",
    "    frame = frame.iloc[0]\n",
    "    debt_cost = frame['Interest_Expense_(Operating)'] / frame['Total_Debt']\n",
    "    return debt_cost"
   ]
  },
  {
   "cell_type": "code",
   "execution_count": null,
   "metadata": {},
   "outputs": [],
   "source": [
    "def tax_rate(frame):\n",
    "    frame = frame.iloc[0]\n",
    "    tax_rate = frame['Income_Tax_Provision'] / frame['EBT']\n",
    "    return tax_rate"
   ]
  },
  {
   "cell_type": "code",
   "execution_count": null,
   "metadata": {},
   "outputs": [],
   "source": [
    "def debt_weight(frame,current_share_price=1):\n",
    "    frame = frame.iloc[0]\n",
    "    debt = frame['Total_Debt']\n",
    "    market_cap = frame[\"Shares_(Diluted,_Weighted)\"]*current_share_price\n",
    "    return debt / (debt+market_cap)"
   ]
  },
  {
   "cell_type": "code",
   "execution_count": null,
   "metadata": {},
   "outputs": [],
   "source": [
    "def equity_weight(frame,current_share_price=1):\n",
    "    frame = frame.iloc[0]\n",
    "    debt = frame['Total_Debt']\n",
    "    market_cap = frame[\"Shares_(Diluted,_Weighted)\"]*current_share_price\n",
    "    return market_cap / (debt+market_cap)"
   ]
  },
  {
   "cell_type": "code",
   "execution_count": null,
   "metadata": {},
   "outputs": [],
   "source": [
    "def equity_cost(market_return_rate = 0.1, risk_free_rate = 0.02, beta = 1):\n",
    "    equity_cost = risk_free_rate + (beta * (market_return_rate - risk_free_rate))\n",
    "    return equity_cost"
   ]
  },
  {
   "cell_type": "code",
   "execution_count": null,
   "metadata": {},
   "outputs": [],
   "source": [
    "def wacc(frame,current_share_price,market_return_rate=0.1,risk_free_rate=0.02, beta = 1):\n",
    "    debtweight = debt_weight(frame,current_share_price)\n",
    "    equityweight = equity_weight(frame,current_share_price)\n",
    "    equitycost = equity_cost(market_return_rate, risk_free_rate, beta)\n",
    "    debtcost = debt_cost(frame)\n",
    "    taxrate = tax_rate(frame)\n",
    "    wacc = ((equityweight*equitycost) + (debtweight * debtcost * (1 - taxrate))) + 1\n",
    "    return wacc\n"
   ]
  }
 ],
 "metadata": {
  "kernelspec": {
   "display_name": "Python 3",
   "language": "python",
   "name": "python3"
  },
  "language_info": {
   "codemirror_mode": {
    "name": "ipython",
    "version": 3
   },
   "file_extension": ".py",
   "mimetype": "text/x-python",
   "name": "python",
   "nbconvert_exporter": "python",
   "pygments_lexer": "ipython3",
   "version": "3.11.1"
  },
  "orig_nbformat": 4,
  "vscode": {
   "interpreter": {
    "hash": "dddda2ec4d6e82db5dc24e4c8a3538bdf4e57733d30735dffe2bd8b388331f86"
   }
  }
 },
 "nbformat": 4,
 "nbformat_minor": 2
}
