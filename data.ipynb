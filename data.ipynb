{
 "cells": [
  {
   "cell_type": "code",
   "execution_count": 1,
   "metadata": {},
   "outputs": [],
   "source": [
    "import math\n",
    "import pandas as pd"
   ]
  },
  {
   "cell_type": "code",
   "execution_count": 166,
   "metadata": {},
   "outputs": [],
   "source": [
    "IS_columns = ['year', 'Revenue', 'Income Tax Provision',\n",
    "       'Net Income Common', 'EPS (Diluted)','Shares (Diluted, Weighted)',\n",
    "       'Gross Margin', 'Net Profit Margin','Free Cash Flow Margin', 'Operating Cash Flow Margin']"
   ]
  },
  {
   "cell_type": "code",
   "execution_count": 167,
   "metadata": {},
   "outputs": [],
   "source": [
    "BS_columns = ['Cash and Short Term Investments', 'Total current assets',\n",
    "       'Total non-current assets', 'Total Assets','Total current liabilities',     \n",
    "       'Total non-current liabilities', 'Total liabilities','Shareholders Equity (Total)','Total Debt']"
   ]
  },
  {
   "cell_type": "code",
   "execution_count": 168,
   "metadata": {},
   "outputs": [],
   "source": [
    "CF_columns = ['Operating Cash Flow',\n",
    "       'Investing cash flow','Equity Repurchase (Common, Net)', 'Dividends Paid (Total)',\n",
    "       'Financing cash flow', 'Stock Based Compensation']"
   ]
  },
  {
   "cell_type": "code",
   "execution_count": 169,
   "metadata": {},
   "outputs": [],
   "source": [
    "Metrics_columns= ['P/E ratio','P/FCF ratio', 'P/Operating CF',\n",
    "       'P/B ratio', 'Current Ratio','Debt/Assets', 'Debt/Equity','Interest Coverage', \n",
    "       'ROE', 'ROA', 'ROIC','Free Cash Flow',]"
   ]
  },
  {
   "cell_type": "markdown",
   "metadata": {},
   "source": [
    "# Import dataframes"
   ]
  },
  {
   "cell_type": "code",
   "execution_count": 4,
   "metadata": {},
   "outputs": [],
   "source": [
    "IS = pd.read_excel(\"../data/income.xlsx\", engine=\"openpyxl\").T\n",
    "BS = pd.read_excel(\"../data/balance_sheet.xlsx\", engine=\"openpyxl\").T\n",
    "CF = pd.read_excel(\"../data/cash_flow.xlsx\", engine=\"openpyxl\").T\n",
    "Metrics = pd.read_excel(\"../data/metrics.xlsx\", engine=\"openpyxl\").T"
   ]
  },
  {
   "cell_type": "code",
   "execution_count": 6,
   "metadata": {},
   "outputs": [
    {
     "data": {
      "text/plain": [
       "Index(['P/E ratio', 'P/S ratio', 'P/FCF ratio', 'P/Operating CF', 'P/B ratio',\n",
       "       'Price to Tangible BV', 'EV/Sales', 'EV/EBITDA', 'EV/Operating CF',\n",
       "       'EV/FCF', 'Quick Ratio', 'Current Ratio', 'Net Debt/EBITDA',\n",
       "       'Debt/Assets', 'Debt/Equity', 'Asset Turnover',\n",
       "       'Operating CF/Net income', 'Capex/Depreciation',\n",
       "       'Depreciation/Fixed assets', 'Interest Coverage', 'ROE', 'ROA', 'ROIC',\n",
       "       'Cash ROIC', 'Return on Tangible Assets',\n",
       "       'Accounts Receivable Turnover', 'Accounts Payable Turnover',\n",
       "       'Inventory Turnover', 'Average Days of Receivables',\n",
       "       'Average Days of Payables', 'Days of Inventory on Hand',\n",
       "       'Research and Development Expense of Revenue',\n",
       "       'Selling, General and Administrative Expense of Revenue',\n",
       "       'Intangible Assets out of Total Assets',\n",
       "       'Share Based Compensation of Revenue', 'Graham Net Nets',\n",
       "       'Graham Number', 'Earnings Yield', 'Free Cash Flow Yield',\n",
       "       'Revenue per Share', 'Operating CF per Share', 'Capex per Share',\n",
       "       'Free Cash Flow per Share', 'Cash per Share',\n",
       "       'Shareholders Equity per Share', 'Interest Debt per Share',\n",
       "       'Book value per Share', 'Free Cash Flow', 'Working Capital',\n",
       "       'Capital Expenditures', 'Net Current Asset Value',\n",
       "       'Average Receivables', 'Average Payables', 'Average Inventory',\n",
       "       'Average Assets', 'Average Common Equity', 'EV/EBIT', 'Capex to Sales',\n",
       "       'Net Profit Margin'],\n",
       "      dtype='object', name='Unnamed: 0')"
      ]
     },
     "execution_count": 6,
     "metadata": {},
     "output_type": "execute_result"
    }
   ],
   "source": [
    "Metrics.columns = Metrics.iloc[0]\n",
    "Metrics = Metrics.iloc[1:]\n",
    "Metrics.columns"
   ]
  },
  {
   "cell_type": "code",
   "execution_count": null,
   "metadata": {},
   "outputs": [],
   "source": [
    "['P/E ratio', 'P/S ratio', 'P/FCF ratio', 'P/Operating CF', 'P/B ratio',\n",
    "       'Price to Tangible BV', 'EV/Sales', 'EV/EBITDA', 'EV/Operating CF',\n",
    "       'EV/FCF', 'Quick Ratio', 'Current Ratio', 'Net Debt/EBITDA',\n",
    "       'Debt/Assets', 'Debt/Equity', 'Asset Turnover',\n",
    "       'Operating CF/Net income', 'Capex/Depreciation',\n",
    "       'Depreciation/Fixed assets', 'Interest Coverage', 'ROE', 'ROA', 'ROIC',\n",
    "       'Cash ROIC', 'Return on Tangible Assets',\n",
    "       'Accounts Receivable Turnover', 'Accounts Payable Turnover',\n",
    "       'Inventory Turnover', 'Average Days of Receivables',\n",
    "       'Average Days of Payables', 'Days of Inventory on Hand',\n",
    "       'Research and Development Expense of Revenue',\n",
    "       'Selling, General and Administrative Expense of Revenue',\n",
    "       'Intangible Assets out of Total Assets',\n",
    "       'Share Based Compensation of Revenue', 'Graham Net Nets',\n",
    "       'Graham Number', 'Earnings Yield', 'Free Cash Flow Yield',\n",
    "       'Revenue per Share', 'Operating CF per Share', 'Capex per Share',\n",
    "       'Free Cash Flow per Share', 'Cash per Share',\n",
    "       'Shareholders Equity per Share', 'Interest Debt per Share',\n",
    "       'Book value per Share', 'Free Cash Flow', 'Working Capital',\n",
    "       'Capital Expenditures', 'Net Current Asset Value',\n",
    "       'Average Receivables', 'Average Payables', 'Average Inventory',\n",
    "       'Average Assets', 'Average Common Equity', 'EV/EBIT', 'Capex to Sales',\n",
    "       'Net Profit Margin']"
   ]
  },
  {
   "cell_type": "code",
   "execution_count": 197,
   "metadata": {},
   "outputs": [],
   "source": [
    "FRAMES = [IS,BS,CF,Metrics]"
   ]
  },
  {
   "cell_type": "code",
   "execution_count": 198,
   "metadata": {},
   "outputs": [],
   "source": [
    "def prepare_frame(frame):\n",
    "    frame.columns = frame.iloc[0]\n",
    "    frame = frame.iloc[1:]\n",
    "    frame = frame.rename_axis(\"year\").reset_index()\n",
    "    frame[\"year\"] = frame[\"year\"].dt.year\n",
    "    return frame"
   ]
  },
  {
   "cell_type": "code",
   "execution_count": 210,
   "metadata": {},
   "outputs": [],
   "source": [
    "def get_data():\n",
    "    #read file\n",
    "    IS = pd.read_excel(\"./data/income.xlsx\", engine=\"openpyxl\").T\n",
    "    BS = pd.read_excel(\"./data/balance_sheet.xlsx\", engine=\"openpyxl\").T\n",
    "    CF = pd.read_excel(\"./data/cash_flow.xlsx\", engine=\"openpyxl\").T\n",
    "    Metrics = pd.read_excel(\"./data/metrics.xlsx\", engine=\"openpyxl\").T\n",
    "    \n",
    "    #clean headers, set index and year\n",
    "    IS = prepare_frame(IS)\n",
    "    BS = prepare_frame(BS)\n",
    "    CF = prepare_frame(CF)\n",
    "    Metrics = prepare_frame(Metrics)\n",
    "\n",
    "    # retain relevant columns\n",
    "    IS  = IS[IS.columns.intersection(IS_columns)]\n",
    "    BS  = BS[BS.columns.intersection(BS_columns)]\n",
    "    CF  = CF[CF.columns.intersection(CF_columns)]\n",
    "    Metrics  = Metrics[Metrics.columns.intersection(Metrics_columns)]\n",
    "\n",
    "    #combine frames\n",
    "    df = pd.concat([IS,BS,CF,Metrics], axis=\"columns\")\n",
    "\n",
    "    #name column names\n",
    "    df.columns = df.columns.str.strip()\n",
    "    df.columns = df.columns.str.replace(' ', '_')\n",
    "\n",
    "    return df"
   ]
  },
  {
   "cell_type": "code",
   "execution_count": 211,
   "metadata": {},
   "outputs": [
    {
     "data": {
      "text/plain": [
       "(10, 37)"
      ]
     },
     "execution_count": 211,
     "metadata": {},
     "output_type": "execute_result"
    }
   ],
   "source": [
    "get_data().shape"
   ]
  }
 ],
 "metadata": {
  "kernelspec": {
   "display_name": "env",
   "language": "python",
   "name": "python3"
  },
  "language_info": {
   "codemirror_mode": {
    "name": "ipython",
    "version": 3
   },
   "file_extension": ".py",
   "mimetype": "text/x-python",
   "name": "python",
   "nbconvert_exporter": "python",
   "pygments_lexer": "ipython3",
   "version": "3.9.11"
  },
  "orig_nbformat": 4,
  "vscode": {
   "interpreter": {
    "hash": "619669372fa21aca5f31f3956ee2a07d0d3f6057e04f5ef2bd27e46eec391a21"
   }
  }
 },
 "nbformat": 4,
 "nbformat_minor": 2
}
