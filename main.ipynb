{
 "cells": [
  {
   "cell_type": "code",
   "execution_count": 16,
   "metadata": {},
   "outputs": [],
   "source": [
    "import pandas\n",
    "from modules import data\n",
    "from modules import metrics\n",
    "from modules import valuation"
   ]
  },
  {
   "cell_type": "code",
   "execution_count": 97,
   "metadata": {},
   "outputs": [],
   "source": [
    "# define parameters\n",
    "CURRENT_PRICE = 89.00\n",
    "BETA = 0.61\n",
    "\n",
    "CAP_GROWTH = 1.15\n",
    "MARKET_RETURN = 0.1\n",
    "RISK_FREE_RETURN = 0.035"
   ]
  },
  {
   "cell_type": "code",
   "execution_count": 98,
   "metadata": {},
   "outputs": [],
   "source": [
    "#get data\n",
    "df = data.get_data()"
   ]
  },
  {
   "cell_type": "code",
   "execution_count": 99,
   "metadata": {},
   "outputs": [],
   "source": [
    "# df = df.iloc[1:]"
   ]
  },
  {
   "cell_type": "code",
   "execution_count": 100,
   "metadata": {},
   "outputs": [],
   "source": [
    "#get metrics\n",
    "SHARE_COUNT = metrics.shares(df)\n",
    "WACC = metrics.wacc(df,\n",
    "                     CURRENT_PRICE,\n",
    "                     market_return_rate=MARKET_RETURN,\n",
    "                     risk_free_rate=RISK_FREE_RETURN, \n",
    "                     beta=BETA)\n"
   ]
  },
  {
   "attachments": {},
   "cell_type": "markdown",
   "metadata": {},
   "source": [
    "# get past 4 years performance history"
   ]
  },
  {
   "cell_type": "code",
   "execution_count": 101,
   "metadata": {},
   "outputs": [],
   "source": [
    "OCF_History = list(df.iloc[:4][\"Operating_Cash_Flow\"])\n",
    "Net_Income_History = list(df.iloc[:4][\"Net_Income_Common\"])\n",
    "FCF_History = list(df.iloc[:4][\"Free_Cash_Flow\"])\n",
    "Dividends_History = list(df.iloc[:4][\"dividend_per_share\"])"
   ]
  },
  {
   "cell_type": "code",
   "execution_count": 102,
   "metadata": {},
   "outputs": [
    {
     "data": {
      "text/plain": [
       "[14109000000.0, 28843000000.0, 20883000000.0, 15100000000.0]"
      ]
     },
     "execution_count": 102,
     "metadata": {},
     "output_type": "execute_result"
    }
   ],
   "source": [
    "FCF_History"
   ]
  },
  {
   "cell_type": "code",
   "execution_count": 103,
   "metadata": {},
   "outputs": [],
   "source": [
    "# Net_Income_History[-1] = 0.01"
   ]
  },
  {
   "cell_type": "markdown",
   "metadata": {},
   "source": [
    "# Valuations"
   ]
  },
  {
   "attachments": {},
   "cell_type": "markdown",
   "metadata": {},
   "source": [
    "### Operating cash flow"
   ]
  },
  {
   "cell_type": "code",
   "execution_count": 104,
   "metadata": {},
   "outputs": [],
   "source": [
    "OCF_YOY_GROWTH = valuation.get_ave_yoy_growth_DCF_value(history=OCF_History,\n",
    "                                       cap_growth=CAP_GROWTH, \n",
    "                                       wacc=WACC, \n",
    "                                       no_of_shares=SHARE_COUNT)\n",
    "\n",
    "OCF_CAGR_GROWTH = valuation.get_cagr_growth_DCF_value(history=OCF_History,\n",
    "                                    cap_growth=CAP_GROWTH, \n",
    "                                    wacc=WACC, \n",
    "                                    no_of_shares=SHARE_COUNT)"
   ]
  },
  {
   "cell_type": "code",
   "execution_count": 105,
   "metadata": {},
   "outputs": [
    {
     "name": "stdout",
     "output_type": "stream",
     "text": [
      "Value based on YOY OCF projection: 75.61492215945206\n",
      "Value based on CAGR OCF projection: 58.197189272136264\n"
     ]
    }
   ],
   "source": [
    "print(f\"\"\"Value based on YOY OCF projection: {OCF_YOY_GROWTH}\n",
    "Value based on CAGR OCF projection: {OCF_CAGR_GROWTH}\"\"\")"
   ]
  },
  {
   "cell_type": "markdown",
   "metadata": {},
   "source": [
    "### Net income"
   ]
  },
  {
   "cell_type": "code",
   "execution_count": 106,
   "metadata": {},
   "outputs": [],
   "source": [
    "NI_YOY_GROWTH = valuation.get_ave_yoy_growth_DCF_value(history=Net_Income_History,\n",
    "                                       cap_growth=CAP_GROWTH, \n",
    "                                       wacc=WACC, \n",
    "                                       no_of_shares=SHARE_COUNT)\n",
    "\n",
    "NI_CAGR_GROWTH = valuation.get_cagr_growth_DCF_value(history=Net_Income_History,\n",
    "                                    cap_growth=CAP_GROWTH, \n",
    "                                    wacc=WACC, \n",
    "                                    no_of_shares=SHARE_COUNT)"
   ]
  },
  {
   "cell_type": "code",
   "execution_count": 107,
   "metadata": {},
   "outputs": [
    {
     "name": "stdout",
     "output_type": "stream",
     "text": [
      "Value based on YOY Net Income projection: 31.291374880496967\n",
      "Value based on CAGR Net Income projection: 16.229523398170958\n"
     ]
    }
   ],
   "source": [
    "print(f\"\"\"Value based on YOY Net Income projection: {NI_YOY_GROWTH}\n",
    "Value based on CAGR Net Income projection: {NI_CAGR_GROWTH}\"\"\")"
   ]
  },
  {
   "cell_type": "markdown",
   "metadata": {},
   "source": [
    "### FCF "
   ]
  },
  {
   "cell_type": "code",
   "execution_count": 108,
   "metadata": {},
   "outputs": [],
   "source": [
    "FCF_YOY_GROWTH = valuation.get_ave_yoy_growth_DCF_value(history=FCF_History,\n",
    "                                       cap_growth=CAP_GROWTH, \n",
    "                                       wacc=WACC, \n",
    "                                       no_of_shares=SHARE_COUNT)\n",
    "\n",
    "FCF_CAGR_GROWTH = valuation.get_cagr_growth_DCF_value(history=FCF_History,\n",
    "                                    cap_growth=CAP_GROWTH, \n",
    "                                    wacc=WACC, \n",
    "                                    no_of_shares=SHARE_COUNT)\n",
    "FCF_PERPETUAL = valuation.perpetual_FCF_growth_valuation(history = FCF_History, \n",
    "                                                        wacc=WACC, \n",
    "                                                        no_of_shares=SHARE_COUNT)"
   ]
  },
  {
   "cell_type": "code",
   "execution_count": 109,
   "metadata": {},
   "outputs": [
    {
     "name": "stdout",
     "output_type": "stream",
     "text": [
      "Value based on YOY FCF projection: 55.82935105220546\n",
      "Value based on CAGR FCF projection: 32.60983979986878\n",
      "Value based on perpetual growth projectionL 74.07260644423495\n"
     ]
    }
   ],
   "source": [
    "print(f\"\"\"Value based on YOY FCF projection: {FCF_YOY_GROWTH}\n",
    "Value based on CAGR FCF projection: {FCF_CAGR_GROWTH}\n",
    "Value based on perpetual growth projectionL {FCF_PERPETUAL}\"\"\")"
   ]
  },
  {
   "cell_type": "markdown",
   "metadata": {},
   "source": [
    "### Dividends"
   ]
  },
  {
   "cell_type": "code",
   "execution_count": 110,
   "metadata": {},
   "outputs": [],
   "source": [
    "try:\n",
    "    DIVIDENDS_PERPETUAL = valuation.perpetual_dividend_growth_valuation(history = Dividends_History, \n",
    "                                                        wacc=WACC)\n",
    "except ZeroDivisionError:\n",
    "    DIVIDENDS_PERPETUAL = 0"
   ]
  },
  {
   "cell_type": "code",
   "execution_count": 111,
   "metadata": {},
   "outputs": [
    {
     "name": "stdout",
     "output_type": "stream",
     "text": [
      "Value based on perpetual dividends growth projection: 0\n"
     ]
    }
   ],
   "source": [
    "print(f\"Value based on perpetual dividends growth projection: {DIVIDENDS_PERPETUAL}\")"
   ]
  },
  {
   "cell_type": "code",
   "execution_count": 112,
   "metadata": {},
   "outputs": [],
   "source": [
    "# df.iloc[0]"
   ]
  },
  {
   "cell_type": "markdown",
   "metadata": {},
   "source": [
    "# troubleshoot"
   ]
  },
  {
   "cell_type": "code",
   "execution_count": 113,
   "metadata": {},
   "outputs": [
    {
     "name": "stdout",
     "output_type": "stream",
     "text": [
      "debt weightage: 0.08424218352626475\n",
      "debt cost: 0.03410935993485222\n",
      "debt cost: 0.03410935993485222\n",
      "\n",
      "\n",
      "equity weightage: 0.9157578164737352\n",
      "equity cost: 0.07465\n"
     ]
    }
   ],
   "source": [
    "print(f\"debt weightage: {metrics.debt_weight(df, current_share_price=CURRENT_PRICE)}\")\n",
    "print(f\"debt cost: {metrics.debt_cost(df)}\")\n",
    "print(f\"debt cost: {metrics.debt_cost(df)}\")\n",
    "print(\"\\n\")\n",
    "print(f\"equity weightage: {metrics.equity_weight(df, current_share_price=CURRENT_PRICE)}\")\n",
    "print(f\"equity cost: {metrics.equity_cost(market_return_rate=MARKET_RETURN,risk_free_rate=RISK_FREE_RETURN,beta=BETA)}\")\n"
   ]
  },
  {
   "cell_type": "code",
   "execution_count": null,
   "metadata": {},
   "outputs": [],
   "source": []
  },
  {
   "cell_type": "code",
   "execution_count": null,
   "metadata": {},
   "outputs": [],
   "source": []
  }
 ],
 "metadata": {
  "kernelspec": {
   "display_name": "Python 3",
   "language": "python",
   "name": "python3"
  },
  "language_info": {
   "codemirror_mode": {
    "name": "ipython",
    "version": 3
   },
   "file_extension": ".py",
   "mimetype": "text/x-python",
   "name": "python",
   "nbconvert_exporter": "python",
   "pygments_lexer": "ipython3",
   "version": "3.11.1"
  },
  "orig_nbformat": 4,
  "vscode": {
   "interpreter": {
    "hash": "dddda2ec4d6e82db5dc24e4c8a3538bdf4e57733d30735dffe2bd8b388331f86"
   }
  }
 },
 "nbformat": 4,
 "nbformat_minor": 2
}
