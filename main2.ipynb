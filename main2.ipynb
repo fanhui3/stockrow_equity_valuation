{
 "cells": [
  {
   "cell_type": "code",
   "execution_count": null,
   "metadata": {},
   "outputs": [],
   "source": [
    "import pandas as pd\n",
    "from modules import data\n",
    "from modules import metrics\n",
    "from modules import valuation\n",
    "from modules import visualisation\n",
    "from modules import csv_dowloader"
   ]
  },
  {
   "cell_type": "code",
   "execution_count": null,
   "metadata": {},
   "outputs": [],
   "source": [
    "csv_dowloader.download_csv(\"googl\")"
   ]
  },
  {
   "cell_type": "code",
   "execution_count": null,
   "metadata": {},
   "outputs": [],
   "source": [
    "# define parameters\n",
    "CURRENT_PRICE = 194\n",
    "BETA = 0.34\n",
    "\n",
    "CAP_GROWTH = 1.15\n",
    "MARKET_RETURN = 0.1\n",
    "RISK_FREE_RETURN = 0.035"
   ]
  },
  {
   "cell_type": "code",
   "execution_count": null,
   "metadata": {},
   "outputs": [],
   "source": [
    "#get data\n",
    "df = data.get_data()"
   ]
  },
  {
   "cell_type": "code",
   "execution_count": null,
   "metadata": {},
   "outputs": [],
   "source": [
    "df.columns"
   ]
  },
  {
   "attachments": {},
   "cell_type": "markdown",
   "metadata": {},
   "source": [
    "# profitability"
   ]
  },
  {
   "cell_type": "code",
   "execution_count": null,
   "metadata": {},
   "outputs": [],
   "source": [
    "visualisation.visualise_profitability(df)"
   ]
  },
  {
   "cell_type": "code",
   "execution_count": null,
   "metadata": {},
   "outputs": [],
   "source": [
    "visualisation.visualise_financial_health(df)"
   ]
  },
  {
   "cell_type": "code",
   "execution_count": null,
   "metadata": {},
   "outputs": [],
   "source": [
    "#get metrics\n",
    "SHARE_COUNT = metrics.shares(df)\n",
    "WACC = metrics.wacc(df,\n",
    "                     CURRENT_PRICE,\n",
    "                     market_return_rate=MARKET_RETURN,\n",
    "                     risk_free_rate=RISK_FREE_RETURN, \n",
    "                     beta=BETA)\n"
   ]
  },
  {
   "cell_type": "markdown",
   "metadata": {},
   "source": [
    "# get past 4 years performance history"
   ]
  },
  {
   "cell_type": "code",
   "execution_count": null,
   "metadata": {},
   "outputs": [],
   "source": [
    "years_to_forecast = 4\n",
    "OCF_History = list(df.iloc[:years_to_forecast][\"Operating_Cash_Flow\"])\n",
    "Net_Income_History = list(df.iloc[:years_to_forecast][\"Net_Income_Common\"])\n",
    "FCF_History = list(df.iloc[:years_to_forecast][\"Free_Cash_Flow\"])\n",
    "Dividends_History = list(df.iloc[:years_to_forecast][\"dividend_per_share\"])"
   ]
  },
  {
   "cell_type": "code",
   "execution_count": null,
   "metadata": {},
   "outputs": [],
   "source": [
    "# Net_Income_History[-1] = 0.01"
   ]
  },
  {
   "cell_type": "markdown",
   "metadata": {},
   "source": [
    "# Valuations"
   ]
  },
  {
   "cell_type": "markdown",
   "metadata": {},
   "source": [
    "### Operating cash flow"
   ]
  },
  {
   "cell_type": "code",
   "execution_count": null,
   "metadata": {},
   "outputs": [],
   "source": [
    "OCF_YOY_GROWTH = valuation.get_ave_yoy_growth_DCF_value(history=OCF_History,\n",
    "                                       cap_growth=CAP_GROWTH, \n",
    "                                       wacc=WACC, \n",
    "                                       no_of_shares=SHARE_COUNT)\n",
    "\n",
    "OCF_CAGR_GROWTH = valuation.get_cagr_growth_DCF_value(history=OCF_History,\n",
    "                                    cap_growth=CAP_GROWTH, \n",
    "                                    wacc=WACC, \n",
    "                                    no_of_shares=SHARE_COUNT)"
   ]
  },
  {
   "cell_type": "code",
   "execution_count": null,
   "metadata": {},
   "outputs": [],
   "source": [
    "print(f\"\"\"Value based on YOY OCF projection: {OCF_YOY_GROWTH}\n",
    "Value based on CAGR OCF projection: {OCF_CAGR_GROWTH}\"\"\")"
   ]
  },
  {
   "cell_type": "markdown",
   "metadata": {},
   "source": [
    "### Net income"
   ]
  },
  {
   "cell_type": "code",
   "execution_count": null,
   "metadata": {},
   "outputs": [],
   "source": [
    "NI_YOY_GROWTH = valuation.get_ave_yoy_growth_DCF_value(history=Net_Income_History,\n",
    "                                       cap_growth=CAP_GROWTH, \n",
    "                                       wacc=WACC, \n",
    "                                       no_of_shares=SHARE_COUNT)\n",
    "\n",
    "NI_CAGR_GROWTH = valuation.get_cagr_growth_DCF_value(history=Net_Income_History,\n",
    "                                    cap_growth=CAP_GROWTH, \n",
    "                                    wacc=WACC, \n",
    "                                    no_of_shares=SHARE_COUNT)"
   ]
  },
  {
   "cell_type": "code",
   "execution_count": null,
   "metadata": {},
   "outputs": [],
   "source": [
    "print(f\"\"\"Value based on YOY Net Income projection: {NI_YOY_GROWTH}\n",
    "Value based on CAGR Net Income projection: {NI_CAGR_GROWTH}\"\"\")"
   ]
  },
  {
   "cell_type": "markdown",
   "metadata": {},
   "source": [
    "### FCF "
   ]
  },
  {
   "cell_type": "code",
   "execution_count": null,
   "metadata": {},
   "outputs": [],
   "source": [
    "FCF_YOY_GROWTH = valuation.get_ave_yoy_growth_DCF_value(history=FCF_History,\n",
    "                                       cap_growth=CAP_GROWTH, \n",
    "                                       wacc=WACC, \n",
    "                                       no_of_shares=SHARE_COUNT)\n",
    "\n",
    "FCF_CAGR_GROWTH = valuation.get_cagr_growth_DCF_value(history=FCF_History,\n",
    "                                    cap_growth=CAP_GROWTH, \n",
    "                                    wacc=WACC, \n",
    "                                    no_of_shares=SHARE_COUNT)\n",
    "FCF_PERPETUAL = valuation.perpetual_FCF_growth_valuation(history = FCF_History, \n",
    "                                                        wacc=WACC, \n",
    "                                                        no_of_shares=SHARE_COUNT)"
   ]
  },
  {
   "cell_type": "code",
   "execution_count": null,
   "metadata": {},
   "outputs": [],
   "source": [
    "print(f\"\"\"Value based on YOY FCF projection: {FCF_YOY_GROWTH}\n",
    "Value based on CAGR FCF projection: {FCF_CAGR_GROWTH}\n",
    "Value based on perpetual growth projection: {FCF_PERPETUAL}\"\"\")"
   ]
  },
  {
   "cell_type": "code",
   "execution_count": null,
   "metadata": {},
   "outputs": [],
   "source": [
    "### Dividends"
   ]
  },
  {
   "cell_type": "code",
   "execution_count": null,
   "metadata": {},
   "outputs": [],
   "source": [
    "try:\n",
    "    DIVIDENDS_PERPETUAL = valuation.perpetual_dividend_growth_valuation(history = Dividends_History, \n",
    "                                                        wacc=WACC)\n",
    "except ZeroDivisionError:\n",
    "    DIVIDENDS_PERPETUAL = 0"
   ]
  },
  {
   "cell_type": "code",
   "execution_count": null,
   "metadata": {},
   "outputs": [],
   "source": [
    "print(f\"Value based on perpetual dividends growth projection: {DIVIDENDS_PERPETUAL}\")"
   ]
  },
  {
   "cell_type": "markdown",
   "metadata": {},
   "source": [
    "# troubleshoot"
   ]
  },
  {
   "cell_type": "code",
   "execution_count": null,
   "metadata": {},
   "outputs": [],
   "source": [
    "print(f\"debt weightage: {metrics.debt_weight(df, current_share_price=CURRENT_PRICE)}\")\n",
    "print(f\"debt cost: {metrics.debt_cost(df)}\")\n",
    "print(f\"debt cost: {metrics.debt_cost(df)}\")\n",
    "print(\"\\n\")\n",
    "print(f\"equity weightage: {metrics.equity_weight(df, current_share_price=CURRENT_PRICE)}\")\n",
    "print(f\"equity cost: {metrics.equity_cost(market_return_rate=MARKET_RETURN,risk_free_rate=RISK_FREE_RETURN,beta=BETA)}\")\n"
   ]
  },
  {
   "cell_type": "code",
   "execution_count": null,
   "metadata": {},
   "outputs": [],
   "source": []
  },
  {
   "cell_type": "code",
   "execution_count": null,
   "metadata": {},
   "outputs": [],
   "source": []
  },
  {
   "cell_type": "code",
   "execution_count": null,
   "metadata": {},
   "outputs": [],
   "source": []
  },
  {
   "cell_type": "code",
   "execution_count": null,
   "metadata": {},
   "outputs": [],
   "source": []
  }
 ],
 "metadata": {
  "kernelspec": {
   "display_name": "env",
   "language": "python",
   "name": "python3"
  },
  "language_info": {
   "codemirror_mode": {
    "name": "ipython",
    "version": 3
   },
   "file_extension": ".py",
   "mimetype": "text/x-python",
   "name": "python",
   "nbconvert_exporter": "python",
   "pygments_lexer": "ipython3",
   "version": "3.9.11"
  },
  "orig_nbformat": 4,
  "vscode": {
   "interpreter": {
    "hash": "619669372fa21aca5f31f3956ee2a07d0d3f6057e04f5ef2bd27e46eec391a21"
   }
  }
 },
 "nbformat": 4,
 "nbformat_minor": 2
}
