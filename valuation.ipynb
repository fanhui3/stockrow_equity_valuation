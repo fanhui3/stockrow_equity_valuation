{
 "cells": [
  {
   "cell_type": "code",
   "execution_count": 1,
   "metadata": {},
   "outputs": [],
   "source": [
    "from modules import data\n",
    "from modules import metrics\n",
    "import pandas\n",
    "from statistics import mean\n",
    "import math"
   ]
  },
  {
   "cell_type": "code",
   "execution_count": 3,
   "metadata": {},
   "outputs": [],
   "source": [
    "df = data.get_data()\n",
    "df = df.iloc[1:]\n",
    "df = df.iloc[:4]"
   ]
  },
  {
   "cell_type": "code",
   "execution_count": 33,
   "metadata": {},
   "outputs": [],
   "source": [
    "# gets average growth from the past few years. \n",
    "# function ingests a list of values\n",
    "# function returns a 1 value\n",
    "\n",
    "def get_avg_growth(history):\n",
    "    growth_history = []\n",
    "    \n",
    "    #calculate the growth between each year. add to the list\n",
    "    for i in range(0,(len(history)-1)):\n",
    "        growth = (history[i] - history[i+1]) / abs(history[i+1])    \n",
    "        growth_history.append(growth)\n",
    "    \n",
    "    #get the average growth\n",
    "    average_growth_rate = 1 + mean(growth_history)\n",
    "    return average_growth_rate\n",
    "\n",
    "\n",
    "# gets cagr growth from the past few years. \n",
    "# function ingests a list of values\n",
    "# function returns a 1 value\n",
    "\n",
    "def get_cagr_growth(history):\n",
    "    try:\n",
    "        base = history[0] / history[-1]\n",
    "        power = 1 / (len(history) - 1)\n",
    "        average_growth_rate = math.pow(base, power)\n",
    "        return average_growth_rate\n",
    "    except ValueError:\n",
    "        print(\"problem occured. Base year is negative value\")\n",
    "        return 0\n",
    "\n",
    "\n",
    "# gets minimum growth rate from the past few years. If it is less than 1, assume no growth\n",
    "# function ingests a list of values\n",
    "# function returns a 1 value\n",
    "def get_min_growth(history):\n",
    "    growth_history = []\n",
    "    \n",
    "    #calculate the growth between each year. add to the list\n",
    "    for i in range(0,(len(history)-1)):\n",
    "        growth = (history[i] - history[i+1]) / abs(history[i+1])    \n",
    "        growth_history.append(growth)\n",
    "\n",
    "    #get the minimum growth\n",
    "    if min(growth_history) >= 0: \n",
    "        min_growth_rate = 1 + min(growth_history)\n",
    "    else: \n",
    "        min_growth_rate = 1\n",
    "    \n",
    "    return min_growth_rate"
   ]
  },
  {
   "cell_type": "code",
   "execution_count": 6,
   "metadata": {},
   "outputs": [],
   "source": [
    "# get list of future values via the growth rates  \n",
    "# function ingests a list of past values, average growth rate, and capped average growth rate\n",
    "# function returns a list of 10 future value\n",
    "\n",
    "def get_future_values(history,average_growth_rate,average_growth_rate_cap=1.15):\n",
    "    future_value = []\n",
    "    start_value = history[0]\n",
    "    for i in range(1, 11):\n",
    "        #for year 1 - 3, grow by average growth rate\n",
    "        if i <= 3:\n",
    "            value =  start_value * average_growth_rate\n",
    "            future_value.append(value)\n",
    "            start_value = value\n",
    "        #for year 4-10, grow by cap growth rate\n",
    "        elif i > 3:\n",
    "            value =  start_value * average_growth_rate_cap\n",
    "            future_value.append(value)\n",
    "            start_value = value\n",
    "    return future_value"
   ]
  },
  {
   "cell_type": "code",
   "execution_count": 7,
   "metadata": {},
   "outputs": [],
   "source": [
    "# converts future values into present value and calculate value per share\n",
    "# function ingests a list of future values values\n",
    "# function returns get 1 number : value per share\n",
    "\n",
    "def get_present_values_per_share(future_value, wacc = 1.1, no_of_shares=100000000):\n",
    "    present_value = 0 \n",
    "\n",
    "    for i in range(0, len(future_value)):\n",
    "        value = future_value[i] / pow(wacc, (i+1))\n",
    "        present_value += value\n",
    "    \n",
    "    #calculate present value per share\n",
    "    fair_value = present_value/no_of_shares\n",
    "    \n",
    "    return fair_value"
   ]
  },
  {
   "cell_type": "code",
   "execution_count": 8,
   "metadata": {},
   "outputs": [],
   "source": [
    "def get_ave_growth_DCF_value(history, cap_growth = 1.15, wacc = 1.1, no_of_shares=100000000):\n",
    "    \n",
    "    #find average growth rate \n",
    "    average_growth_rate = get_avg_growth(history)\n",
    "    \n",
    "    #for year 4-10, if average growth in year 1-3 is more than 15%, cap it at 15%\n",
    "    if average_growth_rate > cap_growth: \n",
    "        average_growth_rate_cap = cap_growth\n",
    "    else: \n",
    "        average_growth_rate_cap = average_growth_rate\n",
    "\n",
    "    # get next 10 years of future value\n",
    "    future_value = get_future_values(history,average_growth_rate,average_growth_rate_cap)\n",
    "\n",
    "    # bring each future value back to present and get per share value\n",
    "    fair_value = get_present_values_per_share(future_value, wacc, no_of_shares)\n",
    "    \n",
    "    return fair_value"
   ]
  },
  {
   "cell_type": "code",
   "execution_count": 9,
   "metadata": {},
   "outputs": [],
   "source": [
    "def get_cagr_DCF_value(history, cap_growth = 1.15, wacc = 1.1, no_of_shares=100000000):\n",
    "\n",
    "    average_growth_rate = get_cagr_growth(history)\n",
    "\n",
    "    #for year 4-10, if average growth in year 1-3 is more than 15%, cap it at 15%\n",
    "    if average_growth_rate > cap_growth: \n",
    "        average_growth_rate_cap = cap_growth\n",
    "    else: \n",
    "        average_growth_rate_cap = average_growth_rate\n",
    "        \n",
    "    # get next 10 years of future value\n",
    "    future_value = get_future_values(history,average_growth_rate,average_growth_rate_cap)\n",
    "\n",
    "    # bring each future value back to present and get per share value\n",
    "    fair_value = get_present_values_per_share(future_value,wacc, no_of_shares)\n",
    "    \n",
    "    return fair_value"
   ]
  },
  {
   "cell_type": "code",
   "execution_count": 10,
   "metadata": {},
   "outputs": [],
   "source": [
    "def perpetual_growth_valuation(history, wacc=1.1):\n",
    "    \n",
    "    min_growth_rate = get_min_growth(history)\n",
    "\n",
    "    #bring to current year and then project for next year. assuming we missed this year's payment\n",
    "    next_payment = history[0] * min_growth_rate * min_growth_rate \n",
    "\n",
    "    #apply formula\n",
    "    valuation = next_payment / (wacc - min_growth_rate)\n",
    "    return valuation"
   ]
  },
  {
   "cell_type": "code",
   "execution_count": 11,
   "metadata": {},
   "outputs": [],
   "source": [
    "wacc = metrics.wacc(df,160.39)\n",
    "shares = metrics.shares(df)"
   ]
  },
  {
   "cell_type": "code",
   "execution_count": 12,
   "metadata": {},
   "outputs": [
    {
     "data": {
      "text/plain": [
       "98.2759184358719"
      ]
     },
     "execution_count": 12,
     "metadata": {},
     "output_type": "execute_result"
    }
   ],
   "source": [
    "get_cagr_DCF_value(list(df[\"Operating_Cash_Flow\"]),cap_growth=1.15, wacc=wacc, no_of_shares=shares)"
   ]
  },
  {
   "cell_type": "code",
   "execution_count": 21,
   "metadata": {},
   "outputs": [
    {
     "data": {
      "text/plain": [
       "Index(['year', 'Revenue', 'Interest_Expense_(Operating)', 'EBT',\n",
       "       'Income_Tax_Provision', 'Net_Income_Common', 'EPS_(Diluted)',\n",
       "       'Shares_(Diluted,_Weighted)', 'Gross_Margin', 'Net_Profit_Margin',\n",
       "       'Free_Cash_Flow_Margin', 'Operating_Cash_Flow_Margin',\n",
       "       'Cash_and_Short_Term_Investments', 'Total_current_assets',\n",
       "       'Total_non-current_assets', 'Total_Assets', 'Total_current_liabilities',\n",
       "       'Total_non-current_liabilities', 'Total_liabilities',\n",
       "       'Shareholders_Equity_(Total)', 'Total_Debt', 'Operating_Cash_Flow',\n",
       "       'Investing_cash_flow', 'Equity_Repurchase_(Common,_Net)',\n",
       "       'Dividends_Paid_(Total)', 'Financing_cash_flow',\n",
       "       'Stock_Based_Compensation', 'P/E_ratio', 'P/FCF_ratio',\n",
       "       'P/Operating_CF', 'P/B_ratio', 'Current_Ratio', 'Debt/Assets',\n",
       "       'Debt/Equity', 'Interest_Coverage', 'ROE', 'ROA', 'ROIC',\n",
       "       'Book_value_per_Share', 'Free_Cash_Flow', 'dividend_per_share'],\n",
       "      dtype='object', name='Unnamed: 0')"
      ]
     },
     "execution_count": 21,
     "metadata": {},
     "output_type": "execute_result"
    }
   ],
   "source": [
    "df.columns "
   ]
  },
  {
   "cell_type": "code",
   "execution_count": 22,
   "metadata": {},
   "outputs": [
    {
     "data": {
      "text/plain": [
       "[5902000000.0, 6740000000.0, 5494000000.0, 5124000000.0]"
      ]
     },
     "execution_count": 22,
     "metadata": {},
     "output_type": "execute_result"
    }
   ],
   "source": [
    "dividend_history = list(df[\"dividend_per_share\"])\n",
    "dividend_history\n",
    "FCF_history = list(df[\"Free_Cash_Flow\"])\n",
    "FCF_history"
   ]
  },
  {
   "cell_type": "code",
   "execution_count": 24,
   "metadata": {},
   "outputs": [
    {
     "data": {
      "text/plain": [
       "1"
      ]
     },
     "execution_count": 24,
     "metadata": {},
     "output_type": "execute_result"
    }
   ],
   "source": [
    "get_min_growth(FCF_history)"
   ]
  },
  {
   "cell_type": "code",
   "execution_count": 27,
   "metadata": {},
   "outputs": [
    {
     "data": {
      "text/plain": [
       "98.24226457407141"
      ]
     },
     "execution_count": 27,
     "metadata": {},
     "output_type": "execute_result"
    }
   ],
   "source": [
    "perpetual_growth_valuation(FCF_history,wacc)/shares"
   ]
  },
  {
   "cell_type": "code",
   "execution_count": 35,
   "metadata": {},
   "outputs": [
    {
     "name": "stdout",
     "output_type": "stream",
     "text": [
      "problem occured. Base year is negative value\n"
     ]
    },
    {
     "data": {
      "text/plain": [
       "0.0"
      ]
     },
     "execution_count": 35,
     "metadata": {},
     "output_type": "execute_result"
    }
   ],
   "source": [
    "get_cagr_DCF_value([1,2,2,-0.1,-0.5],cap_growth=1.15,wacc = wacc, no_of_shares=shares)"
   ]
  },
  {
   "cell_type": "code",
   "execution_count": null,
   "metadata": {},
   "outputs": [],
   "source": []
  }
 ],
 "metadata": {
  "kernelspec": {
   "display_name": "Python 3",
   "language": "python",
   "name": "python3"
  },
  "language_info": {
   "codemirror_mode": {
    "name": "ipython",
    "version": 3
   },
   "file_extension": ".py",
   "mimetype": "text/x-python",
   "name": "python",
   "nbconvert_exporter": "python",
   "pygments_lexer": "ipython3",
   "version": "3.11.1"
  },
  "orig_nbformat": 4,
  "vscode": {
   "interpreter": {
    "hash": "dddda2ec4d6e82db5dc24e4c8a3538bdf4e57733d30735dffe2bd8b388331f86"
   }
  }
 },
 "nbformat": 4,
 "nbformat_minor": 2
}
